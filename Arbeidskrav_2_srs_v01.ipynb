{
 "cells": [
  {
   "cell_type": "code",
   "execution_count": null,
   "id": "d23be2e2-0743-40cd-969b-6b0601f36e7b",
   "metadata": {},
   "outputs": [],
   "source": [
    "# Oppgave 1\n",
    "alder = int(input('Hvilket år er du født?'))\n",
    "\n",
    "utregning = 2024 - alder\n",
    "\n",
    "print('Du ble', utregning, 'år gammel i 2024')"
   ]
  },
  {
   "cell_type": "code",
   "execution_count": null,
   "id": "1baf50d0-ab3a-4941-a8cd-87a5096c8dac",
   "metadata": {},
   "outputs": [],
   "source": [
    "# Oppgave 2\n",
    "import numpy as np\n",
    "\n",
    "antall_elever = int(input('Skriv inn antall elever:' ))\n",
    "elever_pr_pizza = 4\n",
    "antall_pizza = np.ceil(antall_elever/elever_pr_pizza)\n",
    "formattert_antall_pizza = '{:.0f}'.format(antall_pizza)\n",
    "\n",
    "print('Det må handles inn', formattert_antall_pizza, 'pizzaer til festen.')"
   ]
  },
  {
   "cell_type": "code",
   "execution_count": null,
   "id": "3757ca03-99af-49ab-ab08-059f442456bb",
   "metadata": {},
   "outputs": [],
   "source": [
    "# Oppgave 3\n",
    "import numpy as np\n",
    "v_grad = float(input('Skriv inn gradtallet:' ))\n",
    "v_rad = v_grad*np.pi/180\n",
    "\n",
    "print(f'{v_grad:.0f} grader tilsvarer {v_rad:.3f} radianer')"
   ]
  },
  {
   "cell_type": "code",
   "execution_count": null,
   "id": "7bbf755a-6416-44d6-a8be-aff311c6445c",
   "metadata": {},
   "outputs": [],
   "source": [
    "# Oppgave 4\n",
    "data = {\n",
    "    'Norge': ['Oslo', 0.634],\n",
    "    'England': ['London', 8.982],\n",
    "    'Frankrike': ['Paris', 2.161],\n",
    "    'Italia': ['Roma', 2.873]\n",
    "    }\n",
    "\n",
    "land = input('Skriv inn et land: ')\n",
    "by_og_innbyggertall = data[land]\n",
    "innbyggertall = by_og_innbyggertall[1]\n",
    "by = by_og_innbyggertall[0]\n",
    "\n",
    "print(by, 'er hovedstaden i', land, 'og det er', innbyggertall, 'mill. innbyggere i', by)\n",
    "\n",
    "print('Nå skal du skrive inn informasjon om et nytt land')\n",
    "\n",
    "nytt_land = input('Skriv inn nytt land:')\n",
    "ny_hovedstad = input('Skriv inn hovedstaden til landet:')\n",
    "nytt_innbyggertall = float(input('Skriv inn innbyggertallet til hovedstaden i antall millioner:'))\n",
    "\n",
    "data[nytt_land] = [ny_hovedstad, nytt_innbyggertall]\n",
    "\n",
    "print(data)"
   ]
  },
  {
   "cell_type": "code",
   "execution_count": null,
   "id": "71963741-042d-4aa0-aeb0-ca4a8de7a373",
   "metadata": {},
   "outputs": [],
   "source": [
    "# Oppgave 5\n",
    "import numpy as np\n",
    "\n",
    "a = float(input('Skriv inn verdi for a:'))\n",
    "b = float(input('Skriv inn verdi for b:'))\n",
    " \n",
    "radius_halvsirkel = a/2\n",
    "          \n",
    "omkrets_halvsirkel = np.pi*radius_halvsirkel\n",
    "c = np.sqrt((a**2 + b**2))  #lengde hypotenusen i trekanten\n",
    "omkrets_figur = omkrets_halvsirkel + b + c\n",
    "\n",
    "areal_halvsirkel = (np.pi*radius_halvsirkel**2)/2\n",
    "areal_trekant = (a*b)/2\n",
    "areal_figur = areal_halvsirkel + areal_trekant\n",
    "\n",
    "print('Figuren har areal', areal_figur, 'og ytre omkrets', omkrets_figur)"
   ]
  },
  {
   "cell_type": "code",
   "execution_count": null,
   "id": "327c0c68-2183-4c4a-b48f-2bb208b509fc",
   "metadata": {},
   "outputs": [],
   "source": [
    "# Oppgave 6\n",
    "import numpy as np\n",
    "import matplotlib.pyplot as plt\n",
    "\n",
    "x = np.linspace(-10, 10, 200)\n",
    "y = -x**2 - 5\n",
    "\n",
    "plt.close('all')\n",
    "plt.figure(1, figsize=(12, 9))\n",
    "\n",
    "plt.plot(x, y)\n",
    "plt.xlim(-10, 10)\n",
    "plt.xlabel('x')\n",
    "plt.ylabel('y')\n",
    "plt.show()"
   ]
  }
 ],
 "metadata": {
  "kernelspec": {
   "display_name": "Python 3 (ipykernel)",
   "language": "python",
   "name": "python3"
  },
  "language_info": {
   "codemirror_mode": {
    "name": "ipython",
    "version": 3
   },
   "file_extension": ".py",
   "mimetype": "text/x-python",
   "name": "python",
   "nbconvert_exporter": "python",
   "pygments_lexer": "ipython3",
   "version": "3.12.4"
  }
 },
 "nbformat": 4,
 "nbformat_minor": 5
}
